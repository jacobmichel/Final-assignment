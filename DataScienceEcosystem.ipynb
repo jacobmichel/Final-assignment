{
  "metadata": {
    "kernelspec": {
      "name": "python",
      "display_name": "Python (Pyodide)",
      "language": "python"
    },
    "language_info": {
      "codemirror_mode": {
        "name": "python",
        "version": 3
      },
      "file_extension": ".py",
      "mimetype": "text/x-python",
      "name": "python",
      "nbconvert_exporter": "python",
      "pygments_lexer": "ipython3",
      "version": "3.8"
    }
  },
  "nbformat_minor": 5,
  "nbformat": 4,
  "cells": [
    {
      "id": "c24965ec-8a6d-4c2d-bc69-6c2270b4340a",
      "cell_type": "markdown",
      "source": "# Data Science Tools and Ecosystem",
      "metadata": {}
    },
    {
      "id": "5d15370e-9461-493c-a11e-50ea2250c9a0",
      "cell_type": "markdown",
      "source": "## In this notebook, Data Science Tools and Ecosystem are summarized.",
      "metadata": {}
    },
    {
      "id": "f5ef8da5-216d-4092-bf28-19fc3b138f30",
      "cell_type": "markdown",
      "source": "**Objectives**\n- List popular languages for Data Science\n- List of commonly used libraries by Data Scientist\n- List of common data science tools",
      "metadata": {}
    },
    {
      "id": "d5819431-3801-4e56-8156-11a1388e21bc",
      "cell_type": "markdown",
      "source": "### Some of the popular languages that Data Scientists use are:\n1. Python\n2. R\n3. SQL",
      "metadata": {}
    },
    {
      "id": "2acbcbe3-3aab-4d83-ad72-8c4d1667601f",
      "cell_type": "markdown",
      "source": "### Some of the commonly used libraries used by Data Scientists include:\n1. Numpy\n2. Pandas\n3. Scikit-learn",
      "metadata": {}
    },
    {
      "id": "b0ade215-5639-4b32-942b-8cbc01b8dce1",
      "cell_type": "markdown",
      "source": "# Data Science Tools\n\n| Data Science Tools      |\n|-------------------------|\n| Jupyter Notebook        |\n| RStudio                 |\n| Watson Studio           |\n",
      "metadata": {}
    },
    {
      "id": "871780aa-71f9-4f7b-8dd5-f6c81e051ba1",
      "cell_type": "markdown",
      "source": "### Below are a few examples of evaluating arithmetic expressions in Python",
      "metadata": {}
    },
    {
      "id": "31361e8a-f509-41a1-9d44-38027592a37d",
      "cell_type": "code",
      "source": "# This a simple arithmetic expression to mutiply then add integers\n(3*4)+5",
      "metadata": {
        "trusted": true
      },
      "outputs": [
        {
          "execution_count": 3,
          "output_type": "execute_result",
          "data": {
            "text/plain": "17"
          },
          "metadata": {}
        }
      ],
      "execution_count": 3
    },
    {
      "id": "84569f0c-9b41-4493-be8d-c226dad37229",
      "cell_type": "code",
      "source": "# This will convert 200 minutes to hours by diving by 60\n200/60",
      "metadata": {
        "trusted": true
      },
      "outputs": [
        {
          "execution_count": 6,
          "output_type": "execute_result",
          "data": {
            "text/plain": "3.3333333333333335"
          },
          "metadata": {}
        }
      ],
      "execution_count": 6
    },
    {
      "id": "a6371d68-a57d-429b-aa72-17e96c820c60",
      "cell_type": "markdown",
      "source": "## Author\nJacob Michel",
      "metadata": {}
    },
    {
      "id": "0b5050c1-5317-46a4-87ef-e0be967aea5e",
      "cell_type": "code",
      "source": "",
      "metadata": {
        "trusted": true
      },
      "outputs": [],
      "execution_count": null
    }
  ]
}